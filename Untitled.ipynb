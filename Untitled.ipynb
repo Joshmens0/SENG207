{
 "cells": [
  {
   "cell_type": "code",
   "execution_count": 1,
   "id": "3b464ece-85e2-4597-8af9-0da67a3696be",
   "metadata": {},
   "outputs": [],
   "source": [
    "import pandas as nb"
   ]
  },
  {
   "cell_type": "code",
   "execution_count": 2,
   "id": "155be85b-06a7-475f-872c-acf630fa224e",
   "metadata": {},
   "outputs": [
    {
     "data": {
      "text/plain": [
       "<IntegerArray>\n",
       "[1, 3, 5]\n",
       "Length: 3, dtype: Int64"
      ]
     },
     "execution_count": 2,
     "metadata": {},
     "output_type": "execute_result"
    }
   ],
   "source": [
    "nb.array([1,3,5])"
   ]
  },
  {
   "cell_type": "code",
   "execution_count": 3,
   "id": "37118ff7-1339-456b-a21d-33872f75d4b8",
   "metadata": {},
   "outputs": [
    {
     "ename": "AttributeError",
     "evalue": "module 'jupyter' has no attribute 'array'",
     "output_type": "error",
     "traceback": [
      "\u001b[1;31m---------------------------------------------------------------------------\u001b[0m",
      "\u001b[1;31mAttributeError\u001b[0m                            Traceback (most recent call last)",
      "Cell \u001b[1;32mIn[3], line 1\u001b[0m\n\u001b[1;32m----> 1\u001b[0m \u001b[43mnb\u001b[49m\u001b[38;5;241;43m.\u001b[39;49m\u001b[43marray\u001b[49m([\u001b[38;5;241m12\u001b[39m,\u001b[38;5;241m4\u001b[39m,\u001b[38;5;241m45\u001b[39m,\u001b[38;5;241m6\u001b[39m])\n",
      "\u001b[1;31mAttributeError\u001b[0m: module 'jupyter' has no attribute 'array'"
     ]
    }
   ],
   "source": [
    "nb.array([12,4,45,6])"
   ]
  },
  {
   "cell_type": "code",
   "execution_count": null,
   "id": "79fd8749-0a72-481d-b961-8f9a5f1ec86c",
   "metadata": {},
   "outputs": [],
   "source": []
  }
 ],
 "metadata": {
  "kernelspec": {
   "display_name": "Python 3 (ipykernel)",
   "language": "python",
   "name": "python3"
  },
  "language_info": {
   "codemirror_mode": {
    "name": "ipython",
    "version": 3
   },
   "file_extension": ".py",
   "mimetype": "text/x-python",
   "name": "python",
   "nbconvert_exporter": "python",
   "pygments_lexer": "ipython3",
   "version": "3.12.1"
  }
 },
 "nbformat": 4,
 "nbformat_minor": 5
}
